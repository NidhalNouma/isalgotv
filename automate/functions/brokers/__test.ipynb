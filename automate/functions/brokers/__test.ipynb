{
 "cells": [
  {
   "cell_type": "code",
   "execution_count": null,
   "id": "f461e711",
   "metadata": {},
   "outputs": [
    {
     "data": {
      "text/plain": [
       "'true'"
      ]
     },
     "execution_count": 1,
     "metadata": {},
     "output_type": "execute_result"
    }
   ],
   "source": [
    "from dotenv import load_dotenv\n",
    "\n",
    "load_dotenv(dotenv_path=\"../../../main_app/settings/.env\")  \n",
    "\n",
    "import os\n",
    "# os.environ.setdefault(\"DJANGO_ALLOW_ASYNC_UNSAFE\", \"true\")"
   ]
  },
  {
   "cell_type": "code",
   "execution_count": 2,
   "id": "fbb0afcf",
   "metadata": {},
   "outputs": [
    {
     "name": "stdout",
     "output_type": "stream",
     "text": [
      "Retrieved price: price_1RJSQuJ5gHo8PE1NJFADSEg8 - 89 USD\n",
      "Retrieved price: price_1RJSR6J5gHo8PE1NBM7gzBS6 - 228 USD\n",
      "Retrieved price: price_1NQMYTJ5gHo8PE1NQzaHfGxG - 898 USD\n",
      "Retrieved price: price_1OZyisJ5gHo8PE1N7nDQcLq0 - 2680 USD\n",
      "Retrieved price: price_1QpEq9J5gHo8PE1NRqaWqMvv - 3.98 USD\n",
      "Retrieved price: price_1QpEqkJ5gHo8PE1N41ZmGxXo - 6.98 USD\n",
      "Retrieved price: price_1RAwJpJ5gHo8PE1NJdamyvmN - 16.98 USD\n",
      "Django is ready. Project root on sys.path: /Users/nidhalnouma/Documents/etradingview\n"
     ]
    }
   ],
   "source": [
    "# ---- Bootstrap Django inside a notebook ----\n",
    "import os, sys, pathlib\n",
    "\n",
    "# 1) Locate your project root (folder containing manage.py), even if you're deep in subfolders\n",
    "proj = pathlib.Path.cwd()\n",
    "while not (proj / \"manage.py\").exists() and proj.parent != proj:\n",
    "    proj = proj.parent\n",
    "\n",
    "if not (proj / \"manage.py\").exists():\n",
    "    raise RuntimeError(\"Could not find manage.py. Start the notebook somewhere under your Django project.\")\n",
    "\n",
    "# 2) Put the project root on sys.path so absolute imports like `from functions.docs import ...` work\n",
    "sys.path.insert(0, str(proj))\n",
    "\n",
    "# 3) Point to your settings (change to your real settings module path)\n",
    "os.environ.setdefault(\"DJANGO_SETTINGS_MODULE\", \"main_app.settings.dev\")  # e.g. \"config.settings\" or \"mysite.settings\"\n",
    "\n",
    "# 4) Initialize Django\n",
    "import django\n",
    "django.setup()\n",
    "\n",
    "print(\"Django is ready. Project root on sys.path:\", proj)"
   ]
  },
  {
   "cell_type": "code",
   "execution_count": 3,
   "id": "2c819a12",
   "metadata": {},
   "outputs": [
    {
     "name": "stdout",
     "output_type": "stream",
     "text": [
      "OK: admin@isalgo.com\n"
     ]
    }
   ],
   "source": [
    "from django.contrib.auth import get_user_model, authenticate\n",
    "from asgiref.sync import sync_to_async\n",
    "\n",
    "import environ\n",
    "env = environ.Env()\n",
    "\n",
    "@sync_to_async\n",
    "def authenticate_by_email(email: str, password: str):\n",
    "    \"\"\"\n",
    "    Returns the authenticated user or None.\n",
    "    Works whether USERNAME_FIELD is 'username' or 'email'.\n",
    "    \"\"\"\n",
    "    User = get_user_model()\n",
    "    # Find the account by email (case-insensitive)\n",
    "    try:\n",
    "        user = User.objects.get(email__iexact=email)\n",
    "    except User.DoesNotExist:\n",
    "        return None\n",
    "\n",
    "    # Build credentials for ModelBackend (uses UserModel.USERNAME_FIELD internally)\n",
    "    username_field = User.USERNAME_FIELD  # 'username' in default User, or 'email' in custom user\n",
    "    creds = {username_field: getattr(user, username_field), \"password\": password}\n",
    "\n",
    "    # request is optional; None is fine in a notebook\n",
    "    authed = authenticate(request=None, **creds)\n",
    "    return authed\n",
    "\n",
    "# Example:\n",
    "user = await authenticate_by_email(env('TEST_USER_EMAIL'), env('TEST_USER_PASS'))\n",
    "print(\"OK:\", user) if user else print(\"Invalid credentials\")"
   ]
  },
  {
   "cell_type": "code",
   "execution_count": 4,
   "id": "54298614",
   "metadata": {},
   "outputs": [
    {
     "ename": "BadSignature",
     "evalue": "Signature \"b'WesHqEy3V6ODgLNWuFFseOtLmh73S0pLaiI11KvaCY4=\\n'\" does not match",
     "output_type": "error",
     "traceback": [
      "\u001b[31m---------------------------------------------------------------------------\u001b[39m",
      "\u001b[31mInvalidSignature\u001b[39m                          Traceback (most recent call last)",
      "\u001b[36mFile \u001b[39m\u001b[32m~/Documents/etradingview/venv_etv/lib/python3.13/site-packages/django_cryptography/core/signing.py:245\u001b[39m, in \u001b[36mFernetSigner.unsign\u001b[39m\u001b[34m(self, signed_value, ttl)\u001b[39m\n\u001b[32m    244\u001b[39m \u001b[38;5;28;01mtry\u001b[39;00m:\n\u001b[32m--> \u001b[39m\u001b[32m245\u001b[39m     \u001b[38;5;28;43mself\u001b[39;49m\u001b[43m.\u001b[49m\u001b[43msignature\u001b[49m\u001b[43m(\u001b[49m\u001b[43msigned_value\u001b[49m\u001b[43m[\u001b[49m\u001b[43m:\u001b[49m\u001b[43m-\u001b[49m\u001b[43md_size\u001b[49m\u001b[43m]\u001b[49m\u001b[43m)\u001b[49m\u001b[43m.\u001b[49m\u001b[43mverify\u001b[49m\u001b[43m(\u001b[49m\u001b[43msig\u001b[49m\u001b[43m)\u001b[49m\n\u001b[32m    246\u001b[39m \u001b[38;5;28;01mexcept\u001b[39;00m InvalidSignature:\n",
      "\u001b[31mInvalidSignature\u001b[39m: Signature did not match digest.",
      "\nDuring handling of the above exception, another exception occurred:\n",
      "\u001b[31mBadSignature\u001b[39m                              Traceback (most recent call last)",
      "\u001b[36mCell\u001b[39m\u001b[36m \u001b[39m\u001b[32mIn[4]\u001b[39m\u001b[32m, line 4\u001b[39m\n\u001b[32m      1\u001b[39m \u001b[38;5;28;01mfrom\u001b[39;00m\u001b[38;5;250m \u001b[39m\u001b[34;01mautomate\u001b[39;00m\u001b[34;01m.\u001b[39;00m\u001b[34;01mfunctions\u001b[39;00m\u001b[34;01m.\u001b[39;00m\u001b[34;01mbrokers\u001b[39;00m\u001b[34;01m.\u001b[39;00m\u001b[34;01mbinance_cl\u001b[39;00m\u001b[38;5;250m \u001b[39m\u001b[38;5;28;01mimport\u001b[39;00m BinanceClient\n\u001b[32m      2\u001b[39m \u001b[38;5;28;01mfrom\u001b[39;00m\u001b[38;5;250m \u001b[39m\u001b[34;01mautomate\u001b[39;00m\u001b[34;01m.\u001b[39;00m\u001b[34;01mmodels\u001b[39;00m\u001b[38;5;250m \u001b[39m\u001b[38;5;28;01mimport\u001b[39;00m CryptoBrokerAccount, TradeDetails\n\u001b[32m----> \u001b[39m\u001b[32m4\u001b[39m account = \u001b[43mCryptoBrokerAccount\u001b[49m\u001b[43m.\u001b[49m\u001b[43mobjects\u001b[49m\u001b[43m.\u001b[49m\u001b[43mget\u001b[49m\u001b[43m(\u001b[49m\u001b[43mcustom_id\u001b[49m\u001b[43m=\u001b[49m\u001b[33;43m'\u001b[39;49m\u001b[33;43mbinance23x9egbWc\u001b[39;49m\u001b[33;43m'\u001b[39;49m\u001b[43m)\u001b[49m\n\u001b[32m      6\u001b[39m binance = BinanceClient(account=account)\n\u001b[32m      8\u001b[39m candles = binance.history_candles(symbol=\u001b[33m'\u001b[39m\u001b[33mBTCUSDT\u001b[39m\u001b[33m'\u001b[39m, interval=\u001b[33m'\u001b[39m\u001b[33m1m\u001b[39m\u001b[33m'\u001b[39m, limit=\u001b[32m50\u001b[39m)\n",
      "\u001b[36mFile \u001b[39m\u001b[32m~/Documents/etradingview/venv_etv/lib/python3.13/site-packages/django/db/models/manager.py:87\u001b[39m, in \u001b[36mBaseManager._get_queryset_methods.<locals>.create_method.<locals>.manager_method\u001b[39m\u001b[34m(self, *args, **kwargs)\u001b[39m\n\u001b[32m     85\u001b[39m \u001b[38;5;129m@wraps\u001b[39m(method)\n\u001b[32m     86\u001b[39m \u001b[38;5;28;01mdef\u001b[39;00m\u001b[38;5;250m \u001b[39m\u001b[34mmanager_method\u001b[39m(\u001b[38;5;28mself\u001b[39m, *args, **kwargs):\n\u001b[32m---> \u001b[39m\u001b[32m87\u001b[39m     \u001b[38;5;28;01mreturn\u001b[39;00m \u001b[38;5;28;43mgetattr\u001b[39;49m\u001b[43m(\u001b[49m\u001b[38;5;28;43mself\u001b[39;49m\u001b[43m.\u001b[49m\u001b[43mget_queryset\u001b[49m\u001b[43m(\u001b[49m\u001b[43m)\u001b[49m\u001b[43m,\u001b[49m\u001b[43m \u001b[49m\u001b[43mname\u001b[49m\u001b[43m)\u001b[49m\u001b[43m(\u001b[49m\u001b[43m*\u001b[49m\u001b[43margs\u001b[49m\u001b[43m,\u001b[49m\u001b[43m \u001b[49m\u001b[43m*\u001b[49m\u001b[43m*\u001b[49m\u001b[43mkwargs\u001b[49m\u001b[43m)\u001b[49m\n",
      "\u001b[36mFile \u001b[39m\u001b[32m~/Documents/etradingview/venv_etv/lib/python3.13/site-packages/django/db/models/query.py:633\u001b[39m, in \u001b[36mQuerySet.get\u001b[39m\u001b[34m(self, *args, **kwargs)\u001b[39m\n\u001b[32m    631\u001b[39m     limit = MAX_GET_RESULTS\n\u001b[32m    632\u001b[39m     clone.query.set_limits(high=limit)\n\u001b[32m--> \u001b[39m\u001b[32m633\u001b[39m num = \u001b[38;5;28;43mlen\u001b[39;49m\u001b[43m(\u001b[49m\u001b[43mclone\u001b[49m\u001b[43m)\u001b[49m\n\u001b[32m    634\u001b[39m \u001b[38;5;28;01mif\u001b[39;00m num == \u001b[32m1\u001b[39m:\n\u001b[32m    635\u001b[39m     \u001b[38;5;28;01mreturn\u001b[39;00m clone._result_cache[\u001b[32m0\u001b[39m]\n",
      "\u001b[36mFile \u001b[39m\u001b[32m~/Documents/etradingview/venv_etv/lib/python3.13/site-packages/django/db/models/query.py:380\u001b[39m, in \u001b[36mQuerySet.__len__\u001b[39m\u001b[34m(self)\u001b[39m\n\u001b[32m    379\u001b[39m \u001b[38;5;28;01mdef\u001b[39;00m\u001b[38;5;250m \u001b[39m\u001b[34m__len__\u001b[39m(\u001b[38;5;28mself\u001b[39m):\n\u001b[32m--> \u001b[39m\u001b[32m380\u001b[39m     \u001b[38;5;28;43mself\u001b[39;49m\u001b[43m.\u001b[49m\u001b[43m_fetch_all\u001b[49m\u001b[43m(\u001b[49m\u001b[43m)\u001b[49m\n\u001b[32m    381\u001b[39m     \u001b[38;5;28;01mreturn\u001b[39;00m \u001b[38;5;28mlen\u001b[39m(\u001b[38;5;28mself\u001b[39m._result_cache)\n",
      "\u001b[36mFile \u001b[39m\u001b[32m~/Documents/etradingview/venv_etv/lib/python3.13/site-packages/django/db/models/query.py:1881\u001b[39m, in \u001b[36mQuerySet._fetch_all\u001b[39m\u001b[34m(self)\u001b[39m\n\u001b[32m   1879\u001b[39m \u001b[38;5;28;01mdef\u001b[39;00m\u001b[38;5;250m \u001b[39m\u001b[34m_fetch_all\u001b[39m(\u001b[38;5;28mself\u001b[39m):\n\u001b[32m   1880\u001b[39m     \u001b[38;5;28;01mif\u001b[39;00m \u001b[38;5;28mself\u001b[39m._result_cache \u001b[38;5;129;01mis\u001b[39;00m \u001b[38;5;28;01mNone\u001b[39;00m:\n\u001b[32m-> \u001b[39m\u001b[32m1881\u001b[39m         \u001b[38;5;28mself\u001b[39m._result_cache = \u001b[38;5;28;43mlist\u001b[39;49m\u001b[43m(\u001b[49m\u001b[38;5;28;43mself\u001b[39;49m\u001b[43m.\u001b[49m\u001b[43m_iterable_class\u001b[49m\u001b[43m(\u001b[49m\u001b[38;5;28;43mself\u001b[39;49m\u001b[43m)\u001b[49m\u001b[43m)\u001b[49m\n\u001b[32m   1882\u001b[39m     \u001b[38;5;28;01mif\u001b[39;00m \u001b[38;5;28mself\u001b[39m._prefetch_related_lookups \u001b[38;5;129;01mand\u001b[39;00m \u001b[38;5;129;01mnot\u001b[39;00m \u001b[38;5;28mself\u001b[39m._prefetch_done:\n\u001b[32m   1883\u001b[39m         \u001b[38;5;28mself\u001b[39m._prefetch_related_objects()\n",
      "\u001b[36mFile \u001b[39m\u001b[32m~/Documents/etradingview/venv_etv/lib/python3.13/site-packages/django/db/models/query.py:121\u001b[39m, in \u001b[36mModelIterable.__iter__\u001b[39m\u001b[34m(self)\u001b[39m\n\u001b[32m    105\u001b[39m related_populators = get_related_populators(klass_info, select, db)\n\u001b[32m    106\u001b[39m known_related_objects = [\n\u001b[32m    107\u001b[39m     (\n\u001b[32m    108\u001b[39m         field,\n\u001b[32m   (...)\u001b[39m\u001b[32m    119\u001b[39m     \u001b[38;5;28;01mfor\u001b[39;00m field, related_objs \u001b[38;5;129;01min\u001b[39;00m queryset._known_related_objects.items()\n\u001b[32m    120\u001b[39m ]\n\u001b[32m--> \u001b[39m\u001b[32m121\u001b[39m \u001b[43m\u001b[49m\u001b[38;5;28;43;01mfor\u001b[39;49;00m\u001b[43m \u001b[49m\u001b[43mrow\u001b[49m\u001b[43m \u001b[49m\u001b[38;5;129;43;01min\u001b[39;49;00m\u001b[43m \u001b[49m\u001b[43mcompiler\u001b[49m\u001b[43m.\u001b[49m\u001b[43mresults_iter\u001b[49m\u001b[43m(\u001b[49m\u001b[43mresults\u001b[49m\u001b[43m)\u001b[49m\u001b[43m:\u001b[49m\n\u001b[32m    122\u001b[39m \u001b[43m    \u001b[49m\u001b[43mobj\u001b[49m\u001b[43m \u001b[49m\u001b[43m=\u001b[49m\u001b[43m \u001b[49m\u001b[43mmodel_cls\u001b[49m\u001b[43m.\u001b[49m\u001b[43mfrom_db\u001b[49m\u001b[43m(\u001b[49m\n\u001b[32m    123\u001b[39m \u001b[43m        \u001b[49m\u001b[43mdb\u001b[49m\u001b[43m,\u001b[49m\u001b[43m \u001b[49m\u001b[43minit_list\u001b[49m\u001b[43m,\u001b[49m\u001b[43m \u001b[49m\u001b[43mrow\u001b[49m\u001b[43m[\u001b[49m\u001b[43mmodel_fields_start\u001b[49m\u001b[43m:\u001b[49m\u001b[43mmodel_fields_end\u001b[49m\u001b[43m]\u001b[49m\n\u001b[32m    124\u001b[39m \u001b[43m    \u001b[49m\u001b[43m)\u001b[49m\n\u001b[32m    125\u001b[39m \u001b[43m    \u001b[49m\u001b[38;5;28;43;01mfor\u001b[39;49;00m\u001b[43m \u001b[49m\u001b[43mrel_populator\u001b[49m\u001b[43m \u001b[49m\u001b[38;5;129;43;01min\u001b[39;49;00m\u001b[43m \u001b[49m\u001b[43mrelated_populators\u001b[49m\u001b[43m:\u001b[49m\n",
      "\u001b[36mFile \u001b[39m\u001b[32m~/Documents/etradingview/venv_etv/lib/python3.13/site-packages/django/db/models/sql/compiler.py:1500\u001b[39m, in \u001b[36mSQLCompiler.apply_converters\u001b[39m\u001b[34m(self, rows, converters)\u001b[39m\n\u001b[32m   1498\u001b[39m     value = row[pos]\n\u001b[32m   1499\u001b[39m     \u001b[38;5;28;01mfor\u001b[39;00m converter \u001b[38;5;129;01min\u001b[39;00m convs:\n\u001b[32m-> \u001b[39m\u001b[32m1500\u001b[39m         value = \u001b[43mconverter\u001b[49m\u001b[43m(\u001b[49m\u001b[43mvalue\u001b[49m\u001b[43m,\u001b[49m\u001b[43m \u001b[49m\u001b[43mexpression\u001b[49m\u001b[43m,\u001b[49m\u001b[43m \u001b[49m\u001b[43mconnection\u001b[49m\u001b[43m)\u001b[49m\n\u001b[32m   1501\u001b[39m     row[pos] = value\n\u001b[32m   1502\u001b[39m \u001b[38;5;28;01myield\u001b[39;00m row\n",
      "\u001b[36mFile \u001b[39m\u001b[32m~/Documents/etradingview/venv_etv/lib/python3.13/site-packages/django_cryptography/fields.py:174\u001b[39m, in \u001b[36mEncryptedMixin.from_db_value\u001b[39m\u001b[34m(self, value, *args, **kwargs)\u001b[39m\n\u001b[32m    172\u001b[39m \u001b[38;5;28;01mdef\u001b[39;00m\u001b[38;5;250m \u001b[39m\u001b[34mfrom_db_value\u001b[39m(\u001b[38;5;28mself\u001b[39m, value, *args, **kwargs):\n\u001b[32m    173\u001b[39m     \u001b[38;5;28;01mif\u001b[39;00m value \u001b[38;5;129;01mis\u001b[39;00m \u001b[38;5;129;01mnot\u001b[39;00m \u001b[38;5;28;01mNone\u001b[39;00m:\n\u001b[32m--> \u001b[39m\u001b[32m174\u001b[39m         \u001b[38;5;28;01mreturn\u001b[39;00m \u001b[38;5;28;43mself\u001b[39;49m\u001b[43m.\u001b[49m\u001b[43m_load\u001b[49m\u001b[43m(\u001b[49m\u001b[43mforce_bytes\u001b[49m\u001b[43m(\u001b[49m\u001b[43mvalue\u001b[49m\u001b[43m)\u001b[49m\u001b[43m)\u001b[49m\n\u001b[32m    175\u001b[39m     \u001b[38;5;28;01mreturn\u001b[39;00m value\n",
      "\u001b[36mFile \u001b[39m\u001b[32m~/Documents/etradingview/venv_etv/lib/python3.13/site-packages/django_cryptography/fields.py:116\u001b[39m, in \u001b[36mEncryptedMixin._load\u001b[39m\u001b[34m(self, value)\u001b[39m\n\u001b[32m    114\u001b[39m \u001b[38;5;28;01mdef\u001b[39;00m\u001b[38;5;250m \u001b[39m\u001b[34m_load\u001b[39m(\u001b[38;5;28mself\u001b[39m, value):\n\u001b[32m    115\u001b[39m     \u001b[38;5;28;01mtry\u001b[39;00m:\n\u001b[32m--> \u001b[39m\u001b[32m116\u001b[39m         \u001b[38;5;28;01mreturn\u001b[39;00m pickle.loads(\u001b[38;5;28;43mself\u001b[39;49m\u001b[43m.\u001b[49m\u001b[43m_fernet\u001b[49m\u001b[43m.\u001b[49m\u001b[43mdecrypt\u001b[49m\u001b[43m(\u001b[49m\u001b[43mvalue\u001b[49m\u001b[43m,\u001b[49m\u001b[43m \u001b[49m\u001b[38;5;28;43mself\u001b[39;49m\u001b[43m.\u001b[49m\u001b[43mttl\u001b[49m\u001b[43m)\u001b[49m)\n\u001b[32m    117\u001b[39m     \u001b[38;5;28;01mexcept\u001b[39;00m SignatureExpired:\n\u001b[32m    118\u001b[39m         \u001b[38;5;28;01mreturn\u001b[39;00m Expired\n",
      "\u001b[36mFile \u001b[39m\u001b[32m~/Documents/etradingview/venv_etv/lib/python3.13/site-packages/django_cryptography/utils/crypto.py:143\u001b[39m, in \u001b[36mFernetBytes.decrypt\u001b[39m\u001b[34m(self, data, ttl)\u001b[39m\n\u001b[32m    137\u001b[39m \u001b[38;5;28;01mdef\u001b[39;00m\u001b[38;5;250m \u001b[39m\u001b[34mdecrypt\u001b[39m(\u001b[38;5;28mself\u001b[39m, data, ttl=\u001b[38;5;28;01mNone\u001b[39;00m):\n\u001b[32m    138\u001b[39m \u001b[38;5;250m    \u001b[39m\u001b[33;03m\"\"\"\u001b[39;00m\n\u001b[32m    139\u001b[39m \u001b[33;03m    :type data: bytes\u001b[39;00m\n\u001b[32m    140\u001b[39m \u001b[33;03m    :type ttl: int\u001b[39;00m\n\u001b[32m    141\u001b[39m \u001b[33;03m    :rtype: bytes\u001b[39;00m\n\u001b[32m    142\u001b[39m \u001b[33;03m    \"\"\"\u001b[39;00m\n\u001b[32m--> \u001b[39m\u001b[32m143\u001b[39m     data = \u001b[38;5;28;43mself\u001b[39;49m\u001b[43m.\u001b[49m\u001b[43m_signer\u001b[49m\u001b[43m.\u001b[49m\u001b[43munsign\u001b[49m\u001b[43m(\u001b[49m\u001b[43mdata\u001b[49m\u001b[43m,\u001b[49m\u001b[43m \u001b[49m\u001b[43mttl\u001b[49m\u001b[43m)\u001b[49m\n\u001b[32m    145\u001b[39m     iv = data[:\u001b[32m16\u001b[39m]\n\u001b[32m    146\u001b[39m     ciphertext = data[\u001b[32m16\u001b[39m:]\n",
      "\u001b[36mFile \u001b[39m\u001b[32m~/Documents/etradingview/venv_etv/lib/python3.13/site-packages/django_cryptography/core/signing.py:247\u001b[39m, in \u001b[36mFernetSigner.unsign\u001b[39m\u001b[34m(self, signed_value, ttl)\u001b[39m\n\u001b[32m    245\u001b[39m     \u001b[38;5;28mself\u001b[39m.signature(signed_value[:-d_size]).verify(sig)\n\u001b[32m    246\u001b[39m \u001b[38;5;28;01mexcept\u001b[39;00m InvalidSignature:\n\u001b[32m--> \u001b[39m\u001b[32m247\u001b[39m     \u001b[38;5;28;01mraise\u001b[39;00m BadSignature(\n\u001b[32m    248\u001b[39m         \u001b[33m'\u001b[39m\u001b[33mSignature \u001b[39m\u001b[33m\"\u001b[39m\u001b[38;5;132;01m%s\u001b[39;00m\u001b[33m\"\u001b[39m\u001b[33m does not match\u001b[39m\u001b[33m'\u001b[39m % binascii.b2a_base64(sig)\n\u001b[32m    249\u001b[39m     )\n\u001b[32m    250\u001b[39m \u001b[38;5;28;01mreturn\u001b[39;00m value\n",
      "\u001b[31mBadSignature\u001b[39m: Signature \"b'WesHqEy3V6ODgLNWuFFseOtLmh73S0pLaiI11KvaCY4=\\n'\" does not match"
     ]
    }
   ],
   "source": [
    "from automate.functions.brokers.binance_cl import BinanceClient\n",
    "from automate.models import CryptoBrokerAccount, TradeDetails\n",
    "\n",
    "account = CryptoBrokerAccount.objects.get(custom_id='binance23x9egbWc')\n",
    "\n",
    "binance = BinanceClient(account=account)\n",
    "\n",
    "candles = binance.history_candles(symbol='BTCUSDT', interval='1m', limit=50)\n",
    "print(candles)"
   ]
  }
 ],
 "metadata": {
  "kernelspec": {
   "display_name": "venv_etv",
   "language": "python",
   "name": "python3"
  },
  "language_info": {
   "codemirror_mode": {
    "name": "ipython",
    "version": 3
   },
   "file_extension": ".py",
   "mimetype": "text/x-python",
   "name": "python",
   "nbconvert_exporter": "python",
   "pygments_lexer": "ipython3",
   "version": "3.13.3"
  }
 },
 "nbformat": 4,
 "nbformat_minor": 5
}
