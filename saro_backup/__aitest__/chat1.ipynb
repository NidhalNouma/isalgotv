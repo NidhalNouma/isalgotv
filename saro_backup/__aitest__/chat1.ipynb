{
 "cells": [
  {
   "cell_type": "code",
   "execution_count": 2,
   "id": "f461e711",
   "metadata": {},
   "outputs": [
    {
     "data": {
      "text/plain": [
       "True"
      ]
     },
     "execution_count": 2,
     "metadata": {},
     "output_type": "execute_result"
    }
   ],
   "source": [
    "import getpass\n",
    "import os\n",
    "\n",
    "from dotenv import load_dotenv\n",
    "load_dotenv(dotenv_path=\"../../etradingview/settings/.env\")  "
   ]
  },
  {
   "cell_type": "code",
   "execution_count": 3,
   "id": "99d2085b",
   "metadata": {},
   "outputs": [],
   "source": [
    "os.environ[\"LANGSMITH_TRACING\"] = \"true\""
   ]
  },
  {
   "cell_type": "code",
   "execution_count": 4,
   "id": "fbb0afcf",
   "metadata": {},
   "outputs": [],
   "source": [
    "\n",
    "from langchain.text_splitter import RecursiveCharacterTextSplitter\n",
    "from langchain.vectorstores import FAISS\n",
    "\n",
    "from langchain_openai import OpenAIEmbeddings\n",
    "\n",
    "text = input(\"Please type or paste the text to index:\\n\")\n",
    "vectorstore_path = \"vector_index\"\n",
    "embeddings = OpenAIEmbeddings(model=\"text-embedding-3-large\")\n",
    "\n",
    "splitter = RecursiveCharacterTextSplitter(chunk_size=1000, chunk_overlap=100)\n",
    "docs = splitter.create_documents([text])\n",
    "vectorstore = FAISS.from_documents(docs, embeddings)\n",
    "vectorstore.save_local(vectorstore_path)"
   ]
  },
  {
   "cell_type": "code",
   "execution_count": 5,
   "id": "a3b20eac",
   "metadata": {},
   "outputs": [],
   "source": [
    "vectorstore = FAISS.load_local(vectorstore_path, embeddings, allow_dangerous_deserialization=True)\n",
    "retriever = vectorstore.as_retriever()"
   ]
  },
  {
   "cell_type": "code",
   "execution_count": 20,
   "id": "ac6bb31e",
   "metadata": {},
   "outputs": [],
   "source": [
    "\n",
    "from langchain.prompts import ChatPromptTemplate, SystemMessagePromptTemplate, HumanMessagePromptTemplate\n",
    "\n",
    "user_question = input(\"What do you want to know?: \\n\")\n",
    "\n",
    "\n",
    "retrieved_docs = retriever.invoke(user_question)\n",
    "context = \"\\n\\n\".join([doc.page_content for doc in retrieved_docs])\n",
    "\n",
    "\n",
    "prompt = ChatPromptTemplate.from_messages(\n",
    "    [\n",
    "        SystemMessagePromptTemplate.from_template(\n",
    "            \"You are Saro, a trading assistant. If the user asks a question, \"\n",
    "            \"Display images if they are relevant to the question and the context provided.\"\n",
    "            \"you should answer it based on the context provided below.\\n\\nContext:\\n{context}\"\n",
    "        ),\n",
    "        HumanMessagePromptTemplate.from_template(\"{question}\")\n",
    "    ]\n",
    ")"
   ]
  },
  {
   "cell_type": "code",
   "execution_count": 26,
   "id": "ada87668",
   "metadata": {},
   "outputs": [],
   "source": [
    "import tiktoken\n",
    "\n",
    "def count_tokens(text: str, model_name: str = \"gpt-4o-mini\"):\n",
    "    encoding = tiktoken.encoding_for_model(model_name)\n",
    "    return len(encoding.encode(text))"
   ]
  },
  {
   "cell_type": "code",
   "execution_count": null,
   "id": "33ebb35b",
   "metadata": {},
   "outputs": [
    {
     "name": "stdout",
     "output_type": "stream",
     "text": [
      "System: You are Saro, a trading assistant. If the user asks a question, Display images if they are relevant to the question and the context provided.you should answer it based on the context provided below.\n",
      "\n",
      "Context:\n",
      "=> Value: 0 TAKE PROFIT 3 ============= - Take profit 3 => Value: 40 - Value => Value: ATR - ATR period => Value: 5 - Extra => Value: 14 - Partial close => Value: 0 ALERTS ====== - Long => Value: 100 - Short => Value: D=Buy A={{exchange}} V={{qty}} NUM={{No}} - Long exit => Value: D=Sell A={{exchange}} V={{qty}} NUM={{No}} - Short exit => Value: X=Buy A={{exchange}} P={{partial_close}} NUM={{No}} - Always display these results in a clear, well-formatted table. --- **Documentation and Guides** - **Strategy Installation Instructions:** Adding username After selecting your preferred plan , you'll need to provide us with your TradingView username. The video below demonstrates where you can locate your username. [Whatch video](https://isalgotest.s3.amazonaws.com/docs/copy_username.mp4) Find the strategies After submitting your username, please go to TradingView -> Products -> Supercharts. You will find the availble strategies under the 'Invite Only Scripts' section. The video below\n",
      "\n",
      "a question, our support team is here to help. Contact us here . - **Isalgo Automation Playground:** Playground This playground is designed to assist you in creating alerts for any IsAlgo strategy or indicator. Simply follow the steps below to configure your alerts. Preparation Checklist: Ensure you are on the correct chart with the desired asset and timeframe. Add the strategy/indicator to the chart and confirm it's the tested setup. Test your strategy/indicator to verify its performance before proceeding. info! Ensure you thoroughly test the strategy or indicator you plan to automate before initiating the automation process. Alert Messages: The alert messages are the message that will be sent on evry action taken by the strategy/indicator, whether closiing or opening a trade. By default the alerts will have the asset name of the tradingview chart and the volume that you set in the strategy/indicator, but you can override them. Asset Name: leave empty to use strategy-defined asset\n",
      "\n",
      "- How to Create a TradingView Alert: [Read More](/docs/alerts/create) - Isalgo Automation: [Read More](/docs/automate/) - Isalgo Automation Notes: [Read More](/docs/automate/notes) - Link Binance Account: [Read More](/docs/automate/binance) - Link Binance US Account: [Read More](/docs/automate/binanceus) - Link Bitget Account: [Read More](/docs/automate/bitget) - Link Bybit Account: [Read More](/docs/automate/bybit) - Link Crypto.com Account: [Read More](/docs/automate/crypto) - Link BingX Account: [Read More](/docs/automate/bingx) - Link BitMart Account: [Read More](/docs/automate/bitmart) - Link KuCoin Account: [Read More](/docs/automate/kucoin) - Link coinbase Account: [Read More](/docs/automate/coinbase) - Link TradeLocker Account: [Read More](/docs/automate/tradelocker) - Automation Notes: [Read More](/docs/automate/notes) - Isalgo Automation Playground: [Read More](/docs/automate/playground) - How to Share Your Results: [Read More](/docs/share/) include images and videos from\n",
      "\n",
      "You will find the availble strategies under the 'Invite Only Scripts' section. The video below demonstrates how to do that. [Whatch video](https://isalgotest.s3.amazonaws.com/docs/find_strategies.mp4) Get the new strategies We release new strategies every few months. To gain access to them, simply visit the strategy page and click 'Get Access' . If you're a member, you will receive access to the new strategies at no additional cost. Having a trouble If you've subscribed and encounter any issues with adding your TradingView username or accessing the strategies, please click here to contact us for assistance. - **Strategy Setup Guide:** Adding strategy to the chart Now that you have access to our strategies, the easiest way to use them is by clicking on the strategy you want to work with. After selecting the strategy, it will take a few seconds to load, and then you will see it on the chart. Each strategy will have a list of properties that you can adjust, and you will see the results\n",
      "Human: hi there\n",
      "Hello! How can I assist you today?Total Tokens: 34\n",
      "Prompt Tokens: 4218\n",
      "Completion Tokens: 34\n"
     ]
    }
   ],
   "source": [
    "from langchain.callbacks import get_openai_callback\n",
    "from langchain.callbacks.base import BaseCallbackHandler\n",
    "from langchain.callbacks.openai_info import OpenAICallbackHandler\n",
    "\n",
    "from langchain.callbacks.manager import CallbackManager\n",
    "from langchain.chains.conversational_retrieval.base import ConversationalRetrievalChain\n",
    "from langchain_openai import ChatOpenAI\n",
    "from typing import Any, Dict\n",
    "\n",
    "\n",
    "# 1. Define your streaming handler\n",
    "\n",
    "class StreamHandler(BaseCallbackHandler):\n",
    "    def __init__(self):\n",
    "        self.total_tokens = 0\n",
    "        self.prompt_tokens = 0\n",
    "        self.completion_tokens = 0\n",
    "\n",
    "    def on_llm_new_token(self, token: str, **kwargs):\n",
    "        self.completion_tokens += len(token) \n",
    "        self.total_tokens += len(token)\n",
    "    \n",
    "        print(token, end='', flush=True)\n",
    "    \n",
    "    def on_llm_start(self, serialized: Dict[str, Any], prompts: list[str], **kwargs: Any) -> None:\n",
    "        # This is where you'd count prompt tokens if your LLM provider\n",
    "        # doesn't provide it directly in the response metadata\n",
    "        for prompt in prompts:\n",
    "            self.prompt_tokens += len(prompt) # Again, using char count as a proxy\n",
    "\n",
    "            print(prompt)\n",
    "\n",
    "    def on_llm_end(self, outputs: Dict[str, Any], **kwargs: Any) -> None:\n",
    "        # After the chain completes, you can access the accumulated token counts\n",
    "        print(f\"\\n\\nTotal Tokens: {self.total_tokens}\")\n",
    "        print(f\"Prompt Tokens: {self.prompt_tokens}\")\n",
    "        print(f\"Completion Tokens: {self.completion_tokens}\")\n",
    "\n",
    "# 2. Create callback manager\n",
    "stream_handler = StreamHandler()\n",
    "\n",
    "callback_manager = CallbackManager([stream_handler])\n",
    "\n",
    "# 3. Build streaming LLM\n",
    "llm = ChatOpenAI(\n",
    "    model_name=\"gpt-4o-mini\",\n",
    "    temperature=0.5,\n",
    "    streaming=True,\n",
    "    callback_manager=callback_manager\n",
    ")\n",
    "\n",
    "# 4. Build chain\n",
    "qa_chain = ConversationalRetrievalChain.from_llm(\n",
    "    llm=llm,\n",
    "    retriever=retriever,\n",
    "    return_source_documents=False,\n",
    "    combine_docs_chain_kwargs={\"prompt\": prompt}\n",
    ")\n",
    "\n",
    "# 5. Wrap streaming in cost-tracking context\n",
    "with get_openai_callback() as cb:\n",
    "    result = qa_chain.invoke({\n",
    "        \"question\": user_question,\n",
    "        \"chat_history\": [],\n",
    "        \"context\": context\n",
    "    })\n",
    "\n",
    "\n"
   ]
  }
 ],
 "metadata": {
  "kernelspec": {
   "display_name": "venv_etv",
   "language": "python",
   "name": "python3"
  },
  "language_info": {
   "codemirror_mode": {
    "name": "ipython",
    "version": 3
   },
   "file_extension": ".py",
   "mimetype": "text/x-python",
   "name": "python",
   "nbconvert_exporter": "python",
   "pygments_lexer": "ipython3",
   "version": "3.13.3"
  }
 },
 "nbformat": 4,
 "nbformat_minor": 5
}
